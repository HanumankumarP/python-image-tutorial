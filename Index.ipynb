{
 "metadata": {
  "name": ""
 },
 "nbformat": 3,
 "nbformat_minor": 0,
 "worksheets": [
  {
   "cells": [
    {
     "cell_type": "markdown",
     "metadata": {},
     "source": [
      "# Python image classification tutorial\n",
      "\n",
      "1. Make sure you have installed all necessary dependencies (see below).\n",
      "2. [Numpy introduction](/notebooks/Numpy%20introduction.ipynb)\n",
      "3. [Loading/showing images](/notebooks/Load images.ipynb)\n",
      "4. Computing features + using scikit-learn"
     ]
    },
    {
     "cell_type": "markdown",
     "metadata": {},
     "source": [
      "## Goals of this tutorial\n",
      "\n",
      "- introduction to numpy (optional)\n",
      "- introduction to mahotas & scikit-learn as image analysis/computer vision tools\n",
      "- demonstration of ipython notebook"
     ]
    },
    {
     "cell_type": "markdown",
     "metadata": {},
     "source": [
      "## Dependencies\n",
      "\n",
      "Make sure you have installed these packages to be able to follow this tutorial:\n",
      "\n",
      "- [numpy](http://numpy.org)\n",
      "- [matplotlib](http://matplotlib.org)\n",
      "- [mahotas](http://mahotas.rtfd.org)\n",
      "- [scikit-learn](http://scikit-learn.org)\n",
      "- [imread](http://imread.rtfd.org)"
     ]
    }
   ],
   "metadata": {}
  }
 ]
}
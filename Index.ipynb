{
 "metadata": {
  "name": ""
 },
 "nbformat": 3,
 "nbformat_minor": 0,
 "worksheets": [
  {
   "cells": [
    {
     "cell_type": "markdown",
     "metadata": {},
     "source": [
      "# Python image classification tutorial\n",
      "\n",
      "0. Make sure you have installed all necessary dependencies (see below).\n",
      "1. [Loading/showing images](/notebooks/Load images.ipynb)\n",
      "2. Computing features + using scikit-learn"
     ]
    },
    {
     "cell_type": "markdown",
     "metadata": {},
     "source": [
      "## Dependencies\n",
      "\n",
      "Make sure you have installed these packages to be able to follow this tutorial:\n",
      "\n",
      "- [numpy](http://numpy.org)\n",
      "- [matplotlib](http://matplotlib.org)\n",
      "- [mahotas](http://mahotas.rtfd.org)\n",
      "- [scikit-learn](http://scikit-learn.org)\n",
      "- [imread](http://imread.rtfd.org)"
     ]
    }
   ],
   "metadata": {}
  }
 ]
}
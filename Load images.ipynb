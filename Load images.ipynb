{
 "metadata": {
  "name": ""
 },
 "nbformat": 3,
 "nbformat_minor": 0,
 "worksheets": [
  {
   "cells": [
    {
     "cell_type": "markdown",
     "metadata": {},
     "source": [
      "Loading images with Python\n",
      "=========================="
     ]
    },
    {
     "cell_type": "markdown",
     "metadata": {},
     "source": [
      "We will import ``mahotas`` using the ``mh`` abbreviation, which we will use throughout the whole tutorial."
     ]
    },
    {
     "cell_type": "code",
     "collapsed": false,
     "input": [
      "import mahotas as mh"
     ],
     "language": "python",
     "metadata": {},
     "outputs": []
    },
    {
     "cell_type": "markdown",
     "metadata": {},
     "source": [
      "Similarly, numpy is imported as ``np`` and ``matplotlib.pyplot`` as ``plt``:"
     ]
    },
    {
     "cell_type": "code",
     "collapsed": false,
     "input": [
      "import numpy as np\n",
      "from matplotlib import pyplot as plt"
     ],
     "language": "python",
     "metadata": {},
     "outputs": []
    },
    {
     "cell_type": "code",
     "collapsed": false,
     "input": [
      "_ = plt.gray()"
     ],
     "language": "python",
     "metadata": {},
     "outputs": []
    },
    {
     "cell_type": "markdown",
     "metadata": {},
     "source": [
      "Now, we load the image into memory with ``mahotas.imread``"
     ]
    },
    {
     "cell_type": "code",
     "collapsed": false,
     "input": [
      "im = mh.imread('data/building00.jpg')"
     ],
     "language": "python",
     "metadata": {},
     "outputs": []
    },
    {
     "cell_type": "markdown",
     "metadata": {},
     "source": [
      "``im`` is a numpy array with format *Height x Width x Channels* (where channels is red/green/blue):"
     ]
    },
    {
     "cell_type": "code",
     "collapsed": false,
     "input": [
      "print type(im)\n",
      "print im.dtype\n",
      "print im.shape\n",
      "\n",
      "plt.imshow(im)"
     ],
     "language": "python",
     "metadata": {},
     "outputs": []
    },
    {
     "cell_type": "markdown",
     "metadata": {},
     "source": [
      "## Images are just numpy arrays\n",
      "\n",
      "This means that we can use numpy functionality to manipulate the image. For example, we compute the mean across ``axis=2`` (the third, channel, axis) to compute a grey-scale version:"
     ]
    },
    {
     "cell_type": "code",
     "collapsed": false,
     "input": [
      "im = im.mean(axis=2)\n",
      "plt.imshow(im)"
     ],
     "language": "python",
     "metadata": {},
     "outputs": []
    },
    {
     "cell_type": "markdown",
     "metadata": {},
     "source": [
      "Note that there are [other methods](http://en.wikipedia.org/wiki/Grayscale#Converting_color_to_grayscale) to convert to greyscale. Often the green channel is more heavily weighted as humans are more sensitive to variations of intensity in that wavelength."
     ]
    },
    {
     "cell_type": "markdown",
     "metadata": {},
     "source": [
      "Other operations such as thresholding can also be performed using only numpy operations:"
     ]
    },
    {
     "cell_type": "code",
     "collapsed": false,
     "input": [
      "thresholded = (im > 100)\n",
      "plt.imshow(thresholded)"
     ],
     "language": "python",
     "metadata": {},
     "outputs": []
    },
    {
     "cell_type": "markdown",
     "metadata": {},
     "source": [
      "Because many other packages also use the numpy format, you can use functionality from other packages such as [scikit-image](http://scikit-image.org/) or [OpenCV](http://opencv.org/), [SimpleCV](http://simplecv.org/) very easily, mixing and matching functions from different packages in the same analysis."
     ]
    },
    {
     "cell_type": "markdown",
     "metadata": {},
     "source": [
      "### A few more things you should know about\n",
      "\n",
      "- `imsave`: opposite of `imread`, saves images to files"
     ]
    },
    {
     "cell_type": "markdown",
     "metadata": {},
     "source": [
      "#### Looking at our dataset"
     ]
    },
    {
     "cell_type": "code",
     "collapsed": false,
     "input": [
      "fig,axes = plt.subplots(nrows=4,ncols=4,)\n",
      "for ax in axes.flat:\n",
      "    ax.set_xticks([])\n",
      "    ax.set_yticks([])\n",
      "\n",
      "for i in range(16):\n",
      "    iclass = ('building' if (i < 8) else 'scene')\n",
      "    im = mh.imread('SimpleImageDataset/{}{:02}.jpg'.format(iclass, i))\n",
      "    axes.flat[i].imshow(im)"
     ],
     "language": "python",
     "metadata": {},
     "outputs": []
    }
   ],
   "metadata": {}
  }
 ]
}